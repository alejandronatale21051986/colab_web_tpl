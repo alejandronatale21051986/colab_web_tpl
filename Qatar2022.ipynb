{
  "nbformat": 4,
  "nbformat_minor": 0,
  "metadata": {
    "colab": {
      "provenance": [],
      "toc_visible": true,
      "authorship_tag": "ABX9TyNMA/v2CnDEvN+aWVagn2No",
      "include_colab_link": true
    },
    "kernelspec": {
      "name": "python3",
      "display_name": "Python 3"
    },
    "language_info": {
      "name": "python"
    }
  },
  "cells": [
    {
      "cell_type": "markdown",
      "metadata": {
        "id": "view-in-github",
        "colab_type": "text"
      },
      "source": [
        "<a href=\"https://colab.research.google.com/github/alejandronatale21051986/colab_web_tpl/blob/main/Qatar2022.ipynb\" target=\"_parent\"><img src=\"https://colab.research.google.com/assets/colab-badge.svg\" alt=\"Open In Colab\"/></a>"
      ]
    },
    {
      "cell_type": "code",
      "source": [
        "!pip install --upgrade plotly;\n"
      ],
      "metadata": {
        "colab": {
          "base_uri": "https://localhost:8080/"
        },
        "id": "ULhVpQmWD-Vh",
        "outputId": "38ddf3c0-dc8b-4b84-b713-273018bd2ac5"
      },
      "execution_count": 46,
      "outputs": [
        {
          "output_type": "stream",
          "name": "stdout",
          "text": [
            "Looking in indexes: https://pypi.org/simple, https://us-python.pkg.dev/colab-wheels/public/simple/\n",
            "Requirement already satisfied: plotly in /usr/local/lib/python3.8/dist-packages (5.11.0)\n",
            "Requirement already satisfied: tenacity>=6.2.0 in /usr/local/lib/python3.8/dist-packages (from plotly) (8.1.0)\n"
          ]
        }
      ]
    },
    {
      "cell_type": "code",
      "source": [
        "\n",
        "import pandas as pd "
      ],
      "metadata": {
        "id": "pIiD4Q5yOaGV"
      },
      "execution_count": 47,
      "outputs": []
    },
    {
      "cell_type": "code",
      "source": [
        "import plotly.express as px #U: graficar con plotly"
      ],
      "metadata": {
        "id": "xGKoRW4HOZeM"
      },
      "execution_count": 48,
      "outputs": []
    },
    {
      "cell_type": "code",
      "source": [
        "url='https://raw.githubusercontent.com/alenatale/data/main/qatar2022/matches.csv'"
      ],
      "metadata": {
        "id": "Z_CE3GErJYMR"
      },
      "execution_count": 49,
      "outputs": []
    },
    {
      "cell_type": "code",
      "source": [
        "#@title ¿Es para publicar en github o ver aquí?\n",
        "para_publicar_en_github = True #@param {type:\"boolean\"}\n",
        "\n",
        "import plotly\n",
        "import plotly.io as pio\n",
        "pio.templates.default = \"plotly_dark\"\n",
        "\n",
        "if para_publicar_en_github: #U: ponerle true y generar los graficos, procesar con nbconvert o guardar en github\n",
        "  #VER: https://medium.com/@282abhishek/using-plotly-with-nbconvert-in-google-colab-96834c4f2850\n",
        "  #A: funciona en gitpages (nbconvert) SIN copiar plotly.js pq connected=True\n",
        "  plotly.offline.init_notebook_mode(connected=True)\n",
        "else:\n",
        "  plotly.io.renderers.default = 'colab'"
      ],
      "metadata": {
        "colab": {
          "base_uri": "https://localhost:8080/",
          "height": 17
        },
        "id": "g6w6E14bZ58V",
        "outputId": "234c9935-d792-4077-9c47-18d8f8454915"
      },
      "execution_count": 50,
      "outputs": [
        {
          "output_type": "display_data",
          "data": {
            "text/html": [
              "        <script type=\"text/javascript\">\n",
              "        window.PlotlyConfig = {MathJaxConfig: 'local'};\n",
              "        if (window.MathJax && window.MathJax.Hub && window.MathJax.Hub.Config) {window.MathJax.Hub.Config({SVG: {font: \"STIX-Web\"}});}\n",
              "        if (typeof require !== 'undefined') {\n",
              "        require.undef(\"plotly\");\n",
              "        requirejs.config({\n",
              "            paths: {\n",
              "                'plotly': ['https://cdn.plot.ly/plotly-2.16.1.min']\n",
              "            }\n",
              "        });\n",
              "        require(['plotly'], function(Plotly) {\n",
              "            window._Plotly = Plotly;\n",
              "        });\n",
              "        }\n",
              "        </script>\n",
              "        "
            ]
          },
          "metadata": {}
        }
      ]
    },
    {
      "cell_type": "code",
      "execution_count": 51,
      "metadata": {
        "colab": {
          "base_uri": "https://localhost:8080/",
          "height": 887
        },
        "id": "mj_OHallDT2a",
        "outputId": "520dab99-3d00-40f4-8280-7e13d98d5fa8"
      },
      "outputs": [
        {
          "output_type": "execute_result",
          "data": {
            "text/plain": [
              "            team1         team2 possession team1 possession team2  \\\n",
              "0           QATAR       ECUADOR              42%              50%   \n",
              "1         ENGLAND          IRAN              72%              19%   \n",
              "2         SENEGAL   NETHERLANDS              44%              45%   \n",
              "3   UNITED STATES         WALES              51%              39%   \n",
              "4       ARGENTINA  SAUDI ARABIA              64%              24%   \n",
              "..            ...           ...              ...              ...   \n",
              "59        ENGLAND        FRANCE              54%              36%   \n",
              "60      ARGENTINA       CROATIA              34%              54%   \n",
              "61         FRANCE       MOROCCO              34%              55%   \n",
              "62        CROATIA       MOROCCO              45%              45%   \n",
              "63      ARGENTINA        FRANCE              46%              40%   \n",
              "\n",
              "   possession in contest  number of goals team1  number of goals team2  \\\n",
              "0                     8%                      0                      2   \n",
              "1                     9%                      6                      2   \n",
              "2                    11%                      0                      2   \n",
              "3                    10%                      1                      1   \n",
              "4                    12%                      1                      2   \n",
              "..                   ...                    ...                    ...   \n",
              "59                   10%                      1                      2   \n",
              "60                   12%                      3                      0   \n",
              "61                   11%                      2                      0   \n",
              "62                   10%                      2                      1   \n",
              "63                   14%                      3                      3   \n",
              "\n",
              "           date     hour                  category  ...  \\\n",
              "0   20 NOV 2022  17 : 00                   Group A  ...   \n",
              "1   21 NOV 2022  14 : 00                   Group B  ...   \n",
              "2   21 NOV 2022  17 : 00                   Group A  ...   \n",
              "3   21 NOV 2022  20 : 00                   Group B  ...   \n",
              "4   22 NOV 2022  11 : 00                   Group C  ...   \n",
              "..          ...      ...                       ...  ...   \n",
              "59  10 DEC 2022  20 : 00             Quarter-final  ...   \n",
              "60  13 DEC 2022  20 : 00                Semi-final  ...   \n",
              "61  14 DEC 2022  20 : 00                Semi-final  ...   \n",
              "62  17 DEC 2022  16 : 00  Play-off for third place  ...   \n",
              "63  18 DEC 2022  16 : 00                     Final  ...   \n",
              "\n",
              "    penalties scored team1  penalties scored team2  goal preventions team1  \\\n",
              "0                        0                       1                       6   \n",
              "1                        0                       1                       8   \n",
              "2                        0                       0                       9   \n",
              "3                        0                       1                       7   \n",
              "4                        1                       0                       4   \n",
              "..                     ...                     ...                     ...   \n",
              "59                       1                       0                       9   \n",
              "60                       1                       0                      12   \n",
              "61                       0                       0                      13   \n",
              "62                       0                       0                       7   \n",
              "63                       1                       2                      11   \n",
              "\n",
              "    goal preventions team2  own goals team1  own goals team2  \\\n",
              "0                        5                0                0   \n",
              "1                       13                0                0   \n",
              "2                       15                0                0   \n",
              "3                        7                0                0   \n",
              "4                       14                0                0   \n",
              "..                     ...              ...              ...   \n",
              "59                      15                0                0   \n",
              "60                      10                0                0   \n",
              "61                      14                0                0   \n",
              "62                      14                0                0   \n",
              "63                      21                0                0   \n",
              "\n",
              "    forced turnovers team1  forced turnovers team2  \\\n",
              "0                       52                      72   \n",
              "1                       63                      72   \n",
              "2                       63                      73   \n",
              "3                       81                      72   \n",
              "4                       65                      80   \n",
              "..                     ...                     ...   \n",
              "59                      49                      54   \n",
              "60                      85                      63   \n",
              "61                      72                      47   \n",
              "62                      75                      72   \n",
              "63                      87                     104   \n",
              "\n",
              "    defensive pressures applied team1  defensive pressures applied team2  \n",
              "0                                 256                                279  \n",
              "1                                 139                                416  \n",
              "2                                 263                                251  \n",
              "3                                 242                                292  \n",
              "4                                 163                                361  \n",
              "..                                ...                                ...  \n",
              "59                                193                                308  \n",
              "60                                321                                260  \n",
              "61                                328                                218  \n",
              "62                                288                                277  \n",
              "63                                280                                409  \n",
              "\n",
              "[64 rows x 88 columns]"
            ],
            "text/html": [
              "\n",
              "  <div id=\"df-70c08fc3-bae2-4793-acea-989d901e3b18\">\n",
              "    <div class=\"colab-df-container\">\n",
              "      <div>\n",
              "<style scoped>\n",
              "    .dataframe tbody tr th:only-of-type {\n",
              "        vertical-align: middle;\n",
              "    }\n",
              "\n",
              "    .dataframe tbody tr th {\n",
              "        vertical-align: top;\n",
              "    }\n",
              "\n",
              "    .dataframe thead th {\n",
              "        text-align: right;\n",
              "    }\n",
              "</style>\n",
              "<table border=\"1\" class=\"dataframe\">\n",
              "  <thead>\n",
              "    <tr style=\"text-align: right;\">\n",
              "      <th></th>\n",
              "      <th>team1</th>\n",
              "      <th>team2</th>\n",
              "      <th>possession team1</th>\n",
              "      <th>possession team2</th>\n",
              "      <th>possession in contest</th>\n",
              "      <th>number of goals team1</th>\n",
              "      <th>number of goals team2</th>\n",
              "      <th>date</th>\n",
              "      <th>hour</th>\n",
              "      <th>category</th>\n",
              "      <th>...</th>\n",
              "      <th>penalties scored team1</th>\n",
              "      <th>penalties scored team2</th>\n",
              "      <th>goal preventions team1</th>\n",
              "      <th>goal preventions team2</th>\n",
              "      <th>own goals team1</th>\n",
              "      <th>own goals team2</th>\n",
              "      <th>forced turnovers team1</th>\n",
              "      <th>forced turnovers team2</th>\n",
              "      <th>defensive pressures applied team1</th>\n",
              "      <th>defensive pressures applied team2</th>\n",
              "    </tr>\n",
              "  </thead>\n",
              "  <tbody>\n",
              "    <tr>\n",
              "      <th>0</th>\n",
              "      <td>QATAR</td>\n",
              "      <td>ECUADOR</td>\n",
              "      <td>42%</td>\n",
              "      <td>50%</td>\n",
              "      <td>8%</td>\n",
              "      <td>0</td>\n",
              "      <td>2</td>\n",
              "      <td>20 NOV 2022</td>\n",
              "      <td>17 : 00</td>\n",
              "      <td>Group A</td>\n",
              "      <td>...</td>\n",
              "      <td>0</td>\n",
              "      <td>1</td>\n",
              "      <td>6</td>\n",
              "      <td>5</td>\n",
              "      <td>0</td>\n",
              "      <td>0</td>\n",
              "      <td>52</td>\n",
              "      <td>72</td>\n",
              "      <td>256</td>\n",
              "      <td>279</td>\n",
              "    </tr>\n",
              "    <tr>\n",
              "      <th>1</th>\n",
              "      <td>ENGLAND</td>\n",
              "      <td>IRAN</td>\n",
              "      <td>72%</td>\n",
              "      <td>19%</td>\n",
              "      <td>9%</td>\n",
              "      <td>6</td>\n",
              "      <td>2</td>\n",
              "      <td>21 NOV 2022</td>\n",
              "      <td>14 : 00</td>\n",
              "      <td>Group B</td>\n",
              "      <td>...</td>\n",
              "      <td>0</td>\n",
              "      <td>1</td>\n",
              "      <td>8</td>\n",
              "      <td>13</td>\n",
              "      <td>0</td>\n",
              "      <td>0</td>\n",
              "      <td>63</td>\n",
              "      <td>72</td>\n",
              "      <td>139</td>\n",
              "      <td>416</td>\n",
              "    </tr>\n",
              "    <tr>\n",
              "      <th>2</th>\n",
              "      <td>SENEGAL</td>\n",
              "      <td>NETHERLANDS</td>\n",
              "      <td>44%</td>\n",
              "      <td>45%</td>\n",
              "      <td>11%</td>\n",
              "      <td>0</td>\n",
              "      <td>2</td>\n",
              "      <td>21 NOV 2022</td>\n",
              "      <td>17 : 00</td>\n",
              "      <td>Group A</td>\n",
              "      <td>...</td>\n",
              "      <td>0</td>\n",
              "      <td>0</td>\n",
              "      <td>9</td>\n",
              "      <td>15</td>\n",
              "      <td>0</td>\n",
              "      <td>0</td>\n",
              "      <td>63</td>\n",
              "      <td>73</td>\n",
              "      <td>263</td>\n",
              "      <td>251</td>\n",
              "    </tr>\n",
              "    <tr>\n",
              "      <th>3</th>\n",
              "      <td>UNITED STATES</td>\n",
              "      <td>WALES</td>\n",
              "      <td>51%</td>\n",
              "      <td>39%</td>\n",
              "      <td>10%</td>\n",
              "      <td>1</td>\n",
              "      <td>1</td>\n",
              "      <td>21 NOV 2022</td>\n",
              "      <td>20 : 00</td>\n",
              "      <td>Group B</td>\n",
              "      <td>...</td>\n",
              "      <td>0</td>\n",
              "      <td>1</td>\n",
              "      <td>7</td>\n",
              "      <td>7</td>\n",
              "      <td>0</td>\n",
              "      <td>0</td>\n",
              "      <td>81</td>\n",
              "      <td>72</td>\n",
              "      <td>242</td>\n",
              "      <td>292</td>\n",
              "    </tr>\n",
              "    <tr>\n",
              "      <th>4</th>\n",
              "      <td>ARGENTINA</td>\n",
              "      <td>SAUDI ARABIA</td>\n",
              "      <td>64%</td>\n",
              "      <td>24%</td>\n",
              "      <td>12%</td>\n",
              "      <td>1</td>\n",
              "      <td>2</td>\n",
              "      <td>22 NOV 2022</td>\n",
              "      <td>11 : 00</td>\n",
              "      <td>Group C</td>\n",
              "      <td>...</td>\n",
              "      <td>1</td>\n",
              "      <td>0</td>\n",
              "      <td>4</td>\n",
              "      <td>14</td>\n",
              "      <td>0</td>\n",
              "      <td>0</td>\n",
              "      <td>65</td>\n",
              "      <td>80</td>\n",
              "      <td>163</td>\n",
              "      <td>361</td>\n",
              "    </tr>\n",
              "    <tr>\n",
              "      <th>...</th>\n",
              "      <td>...</td>\n",
              "      <td>...</td>\n",
              "      <td>...</td>\n",
              "      <td>...</td>\n",
              "      <td>...</td>\n",
              "      <td>...</td>\n",
              "      <td>...</td>\n",
              "      <td>...</td>\n",
              "      <td>...</td>\n",
              "      <td>...</td>\n",
              "      <td>...</td>\n",
              "      <td>...</td>\n",
              "      <td>...</td>\n",
              "      <td>...</td>\n",
              "      <td>...</td>\n",
              "      <td>...</td>\n",
              "      <td>...</td>\n",
              "      <td>...</td>\n",
              "      <td>...</td>\n",
              "      <td>...</td>\n",
              "      <td>...</td>\n",
              "    </tr>\n",
              "    <tr>\n",
              "      <th>59</th>\n",
              "      <td>ENGLAND</td>\n",
              "      <td>FRANCE</td>\n",
              "      <td>54%</td>\n",
              "      <td>36%</td>\n",
              "      <td>10%</td>\n",
              "      <td>1</td>\n",
              "      <td>2</td>\n",
              "      <td>10 DEC 2022</td>\n",
              "      <td>20 : 00</td>\n",
              "      <td>Quarter-final</td>\n",
              "      <td>...</td>\n",
              "      <td>1</td>\n",
              "      <td>0</td>\n",
              "      <td>9</td>\n",
              "      <td>15</td>\n",
              "      <td>0</td>\n",
              "      <td>0</td>\n",
              "      <td>49</td>\n",
              "      <td>54</td>\n",
              "      <td>193</td>\n",
              "      <td>308</td>\n",
              "    </tr>\n",
              "    <tr>\n",
              "      <th>60</th>\n",
              "      <td>ARGENTINA</td>\n",
              "      <td>CROATIA</td>\n",
              "      <td>34%</td>\n",
              "      <td>54%</td>\n",
              "      <td>12%</td>\n",
              "      <td>3</td>\n",
              "      <td>0</td>\n",
              "      <td>13 DEC 2022</td>\n",
              "      <td>20 : 00</td>\n",
              "      <td>Semi-final</td>\n",
              "      <td>...</td>\n",
              "      <td>1</td>\n",
              "      <td>0</td>\n",
              "      <td>12</td>\n",
              "      <td>10</td>\n",
              "      <td>0</td>\n",
              "      <td>0</td>\n",
              "      <td>85</td>\n",
              "      <td>63</td>\n",
              "      <td>321</td>\n",
              "      <td>260</td>\n",
              "    </tr>\n",
              "    <tr>\n",
              "      <th>61</th>\n",
              "      <td>FRANCE</td>\n",
              "      <td>MOROCCO</td>\n",
              "      <td>34%</td>\n",
              "      <td>55%</td>\n",
              "      <td>11%</td>\n",
              "      <td>2</td>\n",
              "      <td>0</td>\n",
              "      <td>14 DEC 2022</td>\n",
              "      <td>20 : 00</td>\n",
              "      <td>Semi-final</td>\n",
              "      <td>...</td>\n",
              "      <td>0</td>\n",
              "      <td>0</td>\n",
              "      <td>13</td>\n",
              "      <td>14</td>\n",
              "      <td>0</td>\n",
              "      <td>0</td>\n",
              "      <td>72</td>\n",
              "      <td>47</td>\n",
              "      <td>328</td>\n",
              "      <td>218</td>\n",
              "    </tr>\n",
              "    <tr>\n",
              "      <th>62</th>\n",
              "      <td>CROATIA</td>\n",
              "      <td>MOROCCO</td>\n",
              "      <td>45%</td>\n",
              "      <td>45%</td>\n",
              "      <td>10%</td>\n",
              "      <td>2</td>\n",
              "      <td>1</td>\n",
              "      <td>17 DEC 2022</td>\n",
              "      <td>16 : 00</td>\n",
              "      <td>Play-off for third place</td>\n",
              "      <td>...</td>\n",
              "      <td>0</td>\n",
              "      <td>0</td>\n",
              "      <td>7</td>\n",
              "      <td>14</td>\n",
              "      <td>0</td>\n",
              "      <td>0</td>\n",
              "      <td>75</td>\n",
              "      <td>72</td>\n",
              "      <td>288</td>\n",
              "      <td>277</td>\n",
              "    </tr>\n",
              "    <tr>\n",
              "      <th>63</th>\n",
              "      <td>ARGENTINA</td>\n",
              "      <td>FRANCE</td>\n",
              "      <td>46%</td>\n",
              "      <td>40%</td>\n",
              "      <td>14%</td>\n",
              "      <td>3</td>\n",
              "      <td>3</td>\n",
              "      <td>18 DEC 2022</td>\n",
              "      <td>16 : 00</td>\n",
              "      <td>Final</td>\n",
              "      <td>...</td>\n",
              "      <td>1</td>\n",
              "      <td>2</td>\n",
              "      <td>11</td>\n",
              "      <td>21</td>\n",
              "      <td>0</td>\n",
              "      <td>0</td>\n",
              "      <td>87</td>\n",
              "      <td>104</td>\n",
              "      <td>280</td>\n",
              "      <td>409</td>\n",
              "    </tr>\n",
              "  </tbody>\n",
              "</table>\n",
              "<p>64 rows × 88 columns</p>\n",
              "</div>\n",
              "      <button class=\"colab-df-convert\" onclick=\"convertToInteractive('df-70c08fc3-bae2-4793-acea-989d901e3b18')\"\n",
              "              title=\"Convert this dataframe to an interactive table.\"\n",
              "              style=\"display:none;\">\n",
              "        \n",
              "  <svg xmlns=\"http://www.w3.org/2000/svg\" height=\"24px\"viewBox=\"0 0 24 24\"\n",
              "       width=\"24px\">\n",
              "    <path d=\"M0 0h24v24H0V0z\" fill=\"none\"/>\n",
              "    <path d=\"M18.56 5.44l.94 2.06.94-2.06 2.06-.94-2.06-.94-.94-2.06-.94 2.06-2.06.94zm-11 1L8.5 8.5l.94-2.06 2.06-.94-2.06-.94L8.5 2.5l-.94 2.06-2.06.94zm10 10l.94 2.06.94-2.06 2.06-.94-2.06-.94-.94-2.06-.94 2.06-2.06.94z\"/><path d=\"M17.41 7.96l-1.37-1.37c-.4-.4-.92-.59-1.43-.59-.52 0-1.04.2-1.43.59L10.3 9.45l-7.72 7.72c-.78.78-.78 2.05 0 2.83L4 21.41c.39.39.9.59 1.41.59.51 0 1.02-.2 1.41-.59l7.78-7.78 2.81-2.81c.8-.78.8-2.07 0-2.86zM5.41 20L4 18.59l7.72-7.72 1.47 1.35L5.41 20z\"/>\n",
              "  </svg>\n",
              "      </button>\n",
              "      \n",
              "  <style>\n",
              "    .colab-df-container {\n",
              "      display:flex;\n",
              "      flex-wrap:wrap;\n",
              "      gap: 12px;\n",
              "    }\n",
              "\n",
              "    .colab-df-convert {\n",
              "      background-color: #E8F0FE;\n",
              "      border: none;\n",
              "      border-radius: 50%;\n",
              "      cursor: pointer;\n",
              "      display: none;\n",
              "      fill: #1967D2;\n",
              "      height: 32px;\n",
              "      padding: 0 0 0 0;\n",
              "      width: 32px;\n",
              "    }\n",
              "\n",
              "    .colab-df-convert:hover {\n",
              "      background-color: #E2EBFA;\n",
              "      box-shadow: 0px 1px 2px rgba(60, 64, 67, 0.3), 0px 1px 3px 1px rgba(60, 64, 67, 0.15);\n",
              "      fill: #174EA6;\n",
              "    }\n",
              "\n",
              "    [theme=dark] .colab-df-convert {\n",
              "      background-color: #3B4455;\n",
              "      fill: #D2E3FC;\n",
              "    }\n",
              "\n",
              "    [theme=dark] .colab-df-convert:hover {\n",
              "      background-color: #434B5C;\n",
              "      box-shadow: 0px 1px 3px 1px rgba(0, 0, 0, 0.15);\n",
              "      filter: drop-shadow(0px 1px 2px rgba(0, 0, 0, 0.3));\n",
              "      fill: #FFFFFF;\n",
              "    }\n",
              "  </style>\n",
              "\n",
              "      <script>\n",
              "        const buttonEl =\n",
              "          document.querySelector('#df-70c08fc3-bae2-4793-acea-989d901e3b18 button.colab-df-convert');\n",
              "        buttonEl.style.display =\n",
              "          google.colab.kernel.accessAllowed ? 'block' : 'none';\n",
              "\n",
              "        async function convertToInteractive(key) {\n",
              "          const element = document.querySelector('#df-70c08fc3-bae2-4793-acea-989d901e3b18');\n",
              "          const dataTable =\n",
              "            await google.colab.kernel.invokeFunction('convertToInteractive',\n",
              "                                                     [key], {});\n",
              "          if (!dataTable) return;\n",
              "\n",
              "          const docLinkHtml = 'Like what you see? Visit the ' +\n",
              "            '<a target=\"_blank\" href=https://colab.research.google.com/notebooks/data_table.ipynb>data table notebook</a>'\n",
              "            + ' to learn more about interactive tables.';\n",
              "          element.innerHTML = '';\n",
              "          dataTable['output_type'] = 'display_data';\n",
              "          await google.colab.output.renderOutput(dataTable, element);\n",
              "          const docLink = document.createElement('div');\n",
              "          docLink.innerHTML = docLinkHtml;\n",
              "          element.appendChild(docLink);\n",
              "        }\n",
              "      </script>\n",
              "    </div>\n",
              "  </div>\n",
              "  "
            ]
          },
          "metadata": {},
          "execution_count": 51
        }
      ],
      "source": [
        "matches= pd.read_csv(url)\n",
        "matches"
      ]
    },
    {
      "cell_type": "code",
      "source": [
        "# convertir % strings  en numeros\n",
        "\n",
        "matches.replace('%','',inplace=True, regex= True)\n",
        "for col in ['possession team1','possession team2']:\n",
        "  matches[col] = matches[col].astype(float)\n",
        "#TODO: hacerlo para todas las columnas\n",
        "\n",
        "\n"
      ],
      "metadata": {
        "id": "YM5gcLCARrnr"
      },
      "execution_count": 52,
      "outputs": []
    },
    {
      "cell_type": "code",
      "source": [
        "# agregar columna dif_goles\n",
        "matches['dif_goles'] = matches['number of goals team1'] - matches['number of goals team2'] "
      ],
      "metadata": {
        "id": "7moeCZaRTuDa"
      },
      "execution_count": 53,
      "outputs": []
    },
    {
      "cell_type": "code",
      "source": [
        "# diferencia de posesion\n",
        "\n",
        "matches['dif_posesion'] = matches['possession team1'] - matches['possession team2'] "
      ],
      "metadata": {
        "id": "HA_Uq2q0VWH0"
      },
      "execution_count": 54,
      "outputs": []
    },
    {
      "cell_type": "markdown",
      "source": [
        "# Describe"
      ],
      "metadata": {
        "id": "Nxr_Y9G_XE71"
      }
    },
    {
      "cell_type": "code",
      "source": [
        "matches.describe()"
      ],
      "metadata": {
        "colab": {
          "base_uri": "https://localhost:8080/",
          "height": 480
        },
        "id": "8E4l-R3GLBq-",
        "outputId": "4cbcf97f-edd8-419d-c21c-af937abf87f2"
      },
      "execution_count": 55,
      "outputs": [
        {
          "output_type": "execute_result",
          "data": {
            "text/plain": [
              "       possession team1  possession team2  number of goals team1  \\\n",
              "count         64.000000          64.00000              64.000000   \n",
              "mean          44.625000          43.53125               1.578125   \n",
              "std           11.917041          11.98540               1.551289   \n",
              "min           14.000000          17.00000               0.000000   \n",
              "25%           34.750000          35.00000               0.000000   \n",
              "50%           46.000000          42.50000               1.000000   \n",
              "75%           53.000000          51.75000               2.000000   \n",
              "max           74.000000          78.00000               7.000000   \n",
              "\n",
              "       number of goals team2  total attempts team1  total attempts team2  \\\n",
              "count              64.000000             64.000000             64.000000   \n",
              "mean                1.109375             11.140625             11.281250   \n",
              "std                 1.055856              4.972519              5.807682   \n",
              "min                 0.000000              2.000000              0.000000   \n",
              "25%                 0.000000              8.000000              7.750000   \n",
              "50%                 1.000000             10.000000             10.000000   \n",
              "75%                 2.000000             14.000000             14.000000   \n",
              "max                 4.000000             25.000000             32.000000   \n",
              "\n",
              "       conceded team1  conceded team2  goal inside the penalty area team1  \\\n",
              "count       64.000000       64.000000                           64.000000   \n",
              "mean         1.109375        1.578125                            1.468750   \n",
              "std          1.055856        1.551289                            1.563155   \n",
              "min          0.000000        0.000000                            0.000000   \n",
              "25%          0.000000        0.000000                            0.000000   \n",
              "50%          1.000000        1.000000                            1.000000   \n",
              "75%          2.000000        2.000000                            2.000000   \n",
              "max          4.000000        7.000000                            7.000000   \n",
              "\n",
              "       goal inside the penalty area team2  ...  goal preventions team1  \\\n",
              "count                           64.000000  ...               64.000000   \n",
              "mean                             0.984375  ...               11.593750   \n",
              "std                              0.999876  ...                5.911299   \n",
              "min                              0.000000  ...                0.000000   \n",
              "25%                              0.000000  ...                7.750000   \n",
              "50%                              1.000000  ...               11.000000   \n",
              "75%                              2.000000  ...               14.000000   \n",
              "max                              4.000000  ...               32.000000   \n",
              "\n",
              "       goal preventions team2  own goals team1  own goals team2  \\\n",
              "count               64.000000        64.000000        64.000000   \n",
              "mean                11.359375         0.015625         0.015625   \n",
              "std                  4.990045         0.125000         0.125000   \n",
              "min                  2.000000         0.000000         0.000000   \n",
              "25%                  8.000000         0.000000         0.000000   \n",
              "50%                 10.000000         0.000000         0.000000   \n",
              "75%                 14.000000         0.000000         0.000000   \n",
              "max                 26.000000         1.000000         1.000000   \n",
              "\n",
              "       forced turnovers team1  forced turnovers team2  \\\n",
              "count               64.000000               64.000000   \n",
              "mean                71.968750               70.125000   \n",
              "std                 14.394629               13.531269   \n",
              "min                 38.000000               44.000000   \n",
              "25%                 63.000000               60.250000   \n",
              "50%                 71.000000               72.000000   \n",
              "75%                 83.500000               79.000000   \n",
              "max                101.000000              104.000000   \n",
              "\n",
              "       defensive pressures applied team1  defensive pressures applied team2  \\\n",
              "count                          64.000000                          64.000000   \n",
              "mean                          289.750000                         293.265625   \n",
              "std                            88.406888                          80.916230   \n",
              "min                           139.000000                         141.000000   \n",
              "25%                           229.000000                         233.750000   \n",
              "50%                           281.000000                         292.500000   \n",
              "75%                           328.000000                         327.500000   \n",
              "max                           637.000000                         585.000000   \n",
              "\n",
              "       dif_goles  dif_posesion  \n",
              "count  64.000000     64.000000  \n",
              "mean    0.468750      1.093750  \n",
              "std     1.859926     23.784561  \n",
              "min    -3.000000    -64.000000  \n",
              "25%    -1.000000    -17.000000  \n",
              "50%     0.000000      3.500000  \n",
              "75%     1.250000     18.000000  \n",
              "max     7.000000     57.000000  \n",
              "\n",
              "[8 rows x 84 columns]"
            ],
            "text/html": [
              "\n",
              "  <div id=\"df-258daa40-e48c-4c4b-a7ca-ae8f265bb1ee\">\n",
              "    <div class=\"colab-df-container\">\n",
              "      <div>\n",
              "<style scoped>\n",
              "    .dataframe tbody tr th:only-of-type {\n",
              "        vertical-align: middle;\n",
              "    }\n",
              "\n",
              "    .dataframe tbody tr th {\n",
              "        vertical-align: top;\n",
              "    }\n",
              "\n",
              "    .dataframe thead th {\n",
              "        text-align: right;\n",
              "    }\n",
              "</style>\n",
              "<table border=\"1\" class=\"dataframe\">\n",
              "  <thead>\n",
              "    <tr style=\"text-align: right;\">\n",
              "      <th></th>\n",
              "      <th>possession team1</th>\n",
              "      <th>possession team2</th>\n",
              "      <th>number of goals team1</th>\n",
              "      <th>number of goals team2</th>\n",
              "      <th>total attempts team1</th>\n",
              "      <th>total attempts team2</th>\n",
              "      <th>conceded team1</th>\n",
              "      <th>conceded team2</th>\n",
              "      <th>goal inside the penalty area team1</th>\n",
              "      <th>goal inside the penalty area team2</th>\n",
              "      <th>...</th>\n",
              "      <th>goal preventions team1</th>\n",
              "      <th>goal preventions team2</th>\n",
              "      <th>own goals team1</th>\n",
              "      <th>own goals team2</th>\n",
              "      <th>forced turnovers team1</th>\n",
              "      <th>forced turnovers team2</th>\n",
              "      <th>defensive pressures applied team1</th>\n",
              "      <th>defensive pressures applied team2</th>\n",
              "      <th>dif_goles</th>\n",
              "      <th>dif_posesion</th>\n",
              "    </tr>\n",
              "  </thead>\n",
              "  <tbody>\n",
              "    <tr>\n",
              "      <th>count</th>\n",
              "      <td>64.000000</td>\n",
              "      <td>64.00000</td>\n",
              "      <td>64.000000</td>\n",
              "      <td>64.000000</td>\n",
              "      <td>64.000000</td>\n",
              "      <td>64.000000</td>\n",
              "      <td>64.000000</td>\n",
              "      <td>64.000000</td>\n",
              "      <td>64.000000</td>\n",
              "      <td>64.000000</td>\n",
              "      <td>...</td>\n",
              "      <td>64.000000</td>\n",
              "      <td>64.000000</td>\n",
              "      <td>64.000000</td>\n",
              "      <td>64.000000</td>\n",
              "      <td>64.000000</td>\n",
              "      <td>64.000000</td>\n",
              "      <td>64.000000</td>\n",
              "      <td>64.000000</td>\n",
              "      <td>64.000000</td>\n",
              "      <td>64.000000</td>\n",
              "    </tr>\n",
              "    <tr>\n",
              "      <th>mean</th>\n",
              "      <td>44.625000</td>\n",
              "      <td>43.53125</td>\n",
              "      <td>1.578125</td>\n",
              "      <td>1.109375</td>\n",
              "      <td>11.140625</td>\n",
              "      <td>11.281250</td>\n",
              "      <td>1.109375</td>\n",
              "      <td>1.578125</td>\n",
              "      <td>1.468750</td>\n",
              "      <td>0.984375</td>\n",
              "      <td>...</td>\n",
              "      <td>11.593750</td>\n",
              "      <td>11.359375</td>\n",
              "      <td>0.015625</td>\n",
              "      <td>0.015625</td>\n",
              "      <td>71.968750</td>\n",
              "      <td>70.125000</td>\n",
              "      <td>289.750000</td>\n",
              "      <td>293.265625</td>\n",
              "      <td>0.468750</td>\n",
              "      <td>1.093750</td>\n",
              "    </tr>\n",
              "    <tr>\n",
              "      <th>std</th>\n",
              "      <td>11.917041</td>\n",
              "      <td>11.98540</td>\n",
              "      <td>1.551289</td>\n",
              "      <td>1.055856</td>\n",
              "      <td>4.972519</td>\n",
              "      <td>5.807682</td>\n",
              "      <td>1.055856</td>\n",
              "      <td>1.551289</td>\n",
              "      <td>1.563155</td>\n",
              "      <td>0.999876</td>\n",
              "      <td>...</td>\n",
              "      <td>5.911299</td>\n",
              "      <td>4.990045</td>\n",
              "      <td>0.125000</td>\n",
              "      <td>0.125000</td>\n",
              "      <td>14.394629</td>\n",
              "      <td>13.531269</td>\n",
              "      <td>88.406888</td>\n",
              "      <td>80.916230</td>\n",
              "      <td>1.859926</td>\n",
              "      <td>23.784561</td>\n",
              "    </tr>\n",
              "    <tr>\n",
              "      <th>min</th>\n",
              "      <td>14.000000</td>\n",
              "      <td>17.00000</td>\n",
              "      <td>0.000000</td>\n",
              "      <td>0.000000</td>\n",
              "      <td>2.000000</td>\n",
              "      <td>0.000000</td>\n",
              "      <td>0.000000</td>\n",
              "      <td>0.000000</td>\n",
              "      <td>0.000000</td>\n",
              "      <td>0.000000</td>\n",
              "      <td>...</td>\n",
              "      <td>0.000000</td>\n",
              "      <td>2.000000</td>\n",
              "      <td>0.000000</td>\n",
              "      <td>0.000000</td>\n",
              "      <td>38.000000</td>\n",
              "      <td>44.000000</td>\n",
              "      <td>139.000000</td>\n",
              "      <td>141.000000</td>\n",
              "      <td>-3.000000</td>\n",
              "      <td>-64.000000</td>\n",
              "    </tr>\n",
              "    <tr>\n",
              "      <th>25%</th>\n",
              "      <td>34.750000</td>\n",
              "      <td>35.00000</td>\n",
              "      <td>0.000000</td>\n",
              "      <td>0.000000</td>\n",
              "      <td>8.000000</td>\n",
              "      <td>7.750000</td>\n",
              "      <td>0.000000</td>\n",
              "      <td>0.000000</td>\n",
              "      <td>0.000000</td>\n",
              "      <td>0.000000</td>\n",
              "      <td>...</td>\n",
              "      <td>7.750000</td>\n",
              "      <td>8.000000</td>\n",
              "      <td>0.000000</td>\n",
              "      <td>0.000000</td>\n",
              "      <td>63.000000</td>\n",
              "      <td>60.250000</td>\n",
              "      <td>229.000000</td>\n",
              "      <td>233.750000</td>\n",
              "      <td>-1.000000</td>\n",
              "      <td>-17.000000</td>\n",
              "    </tr>\n",
              "    <tr>\n",
              "      <th>50%</th>\n",
              "      <td>46.000000</td>\n",
              "      <td>42.50000</td>\n",
              "      <td>1.000000</td>\n",
              "      <td>1.000000</td>\n",
              "      <td>10.000000</td>\n",
              "      <td>10.000000</td>\n",
              "      <td>1.000000</td>\n",
              "      <td>1.000000</td>\n",
              "      <td>1.000000</td>\n",
              "      <td>1.000000</td>\n",
              "      <td>...</td>\n",
              "      <td>11.000000</td>\n",
              "      <td>10.000000</td>\n",
              "      <td>0.000000</td>\n",
              "      <td>0.000000</td>\n",
              "      <td>71.000000</td>\n",
              "      <td>72.000000</td>\n",
              "      <td>281.000000</td>\n",
              "      <td>292.500000</td>\n",
              "      <td>0.000000</td>\n",
              "      <td>3.500000</td>\n",
              "    </tr>\n",
              "    <tr>\n",
              "      <th>75%</th>\n",
              "      <td>53.000000</td>\n",
              "      <td>51.75000</td>\n",
              "      <td>2.000000</td>\n",
              "      <td>2.000000</td>\n",
              "      <td>14.000000</td>\n",
              "      <td>14.000000</td>\n",
              "      <td>2.000000</td>\n",
              "      <td>2.000000</td>\n",
              "      <td>2.000000</td>\n",
              "      <td>2.000000</td>\n",
              "      <td>...</td>\n",
              "      <td>14.000000</td>\n",
              "      <td>14.000000</td>\n",
              "      <td>0.000000</td>\n",
              "      <td>0.000000</td>\n",
              "      <td>83.500000</td>\n",
              "      <td>79.000000</td>\n",
              "      <td>328.000000</td>\n",
              "      <td>327.500000</td>\n",
              "      <td>1.250000</td>\n",
              "      <td>18.000000</td>\n",
              "    </tr>\n",
              "    <tr>\n",
              "      <th>max</th>\n",
              "      <td>74.000000</td>\n",
              "      <td>78.00000</td>\n",
              "      <td>7.000000</td>\n",
              "      <td>4.000000</td>\n",
              "      <td>25.000000</td>\n",
              "      <td>32.000000</td>\n",
              "      <td>4.000000</td>\n",
              "      <td>7.000000</td>\n",
              "      <td>7.000000</td>\n",
              "      <td>4.000000</td>\n",
              "      <td>...</td>\n",
              "      <td>32.000000</td>\n",
              "      <td>26.000000</td>\n",
              "      <td>1.000000</td>\n",
              "      <td>1.000000</td>\n",
              "      <td>101.000000</td>\n",
              "      <td>104.000000</td>\n",
              "      <td>637.000000</td>\n",
              "      <td>585.000000</td>\n",
              "      <td>7.000000</td>\n",
              "      <td>57.000000</td>\n",
              "    </tr>\n",
              "  </tbody>\n",
              "</table>\n",
              "<p>8 rows × 84 columns</p>\n",
              "</div>\n",
              "      <button class=\"colab-df-convert\" onclick=\"convertToInteractive('df-258daa40-e48c-4c4b-a7ca-ae8f265bb1ee')\"\n",
              "              title=\"Convert this dataframe to an interactive table.\"\n",
              "              style=\"display:none;\">\n",
              "        \n",
              "  <svg xmlns=\"http://www.w3.org/2000/svg\" height=\"24px\"viewBox=\"0 0 24 24\"\n",
              "       width=\"24px\">\n",
              "    <path d=\"M0 0h24v24H0V0z\" fill=\"none\"/>\n",
              "    <path d=\"M18.56 5.44l.94 2.06.94-2.06 2.06-.94-2.06-.94-.94-2.06-.94 2.06-2.06.94zm-11 1L8.5 8.5l.94-2.06 2.06-.94-2.06-.94L8.5 2.5l-.94 2.06-2.06.94zm10 10l.94 2.06.94-2.06 2.06-.94-2.06-.94-.94-2.06-.94 2.06-2.06.94z\"/><path d=\"M17.41 7.96l-1.37-1.37c-.4-.4-.92-.59-1.43-.59-.52 0-1.04.2-1.43.59L10.3 9.45l-7.72 7.72c-.78.78-.78 2.05 0 2.83L4 21.41c.39.39.9.59 1.41.59.51 0 1.02-.2 1.41-.59l7.78-7.78 2.81-2.81c.8-.78.8-2.07 0-2.86zM5.41 20L4 18.59l7.72-7.72 1.47 1.35L5.41 20z\"/>\n",
              "  </svg>\n",
              "      </button>\n",
              "      \n",
              "  <style>\n",
              "    .colab-df-container {\n",
              "      display:flex;\n",
              "      flex-wrap:wrap;\n",
              "      gap: 12px;\n",
              "    }\n",
              "\n",
              "    .colab-df-convert {\n",
              "      background-color: #E8F0FE;\n",
              "      border: none;\n",
              "      border-radius: 50%;\n",
              "      cursor: pointer;\n",
              "      display: none;\n",
              "      fill: #1967D2;\n",
              "      height: 32px;\n",
              "      padding: 0 0 0 0;\n",
              "      width: 32px;\n",
              "    }\n",
              "\n",
              "    .colab-df-convert:hover {\n",
              "      background-color: #E2EBFA;\n",
              "      box-shadow: 0px 1px 2px rgba(60, 64, 67, 0.3), 0px 1px 3px 1px rgba(60, 64, 67, 0.15);\n",
              "      fill: #174EA6;\n",
              "    }\n",
              "\n",
              "    [theme=dark] .colab-df-convert {\n",
              "      background-color: #3B4455;\n",
              "      fill: #D2E3FC;\n",
              "    }\n",
              "\n",
              "    [theme=dark] .colab-df-convert:hover {\n",
              "      background-color: #434B5C;\n",
              "      box-shadow: 0px 1px 3px 1px rgba(0, 0, 0, 0.15);\n",
              "      filter: drop-shadow(0px 1px 2px rgba(0, 0, 0, 0.3));\n",
              "      fill: #FFFFFF;\n",
              "    }\n",
              "  </style>\n",
              "\n",
              "      <script>\n",
              "        const buttonEl =\n",
              "          document.querySelector('#df-258daa40-e48c-4c4b-a7ca-ae8f265bb1ee button.colab-df-convert');\n",
              "        buttonEl.style.display =\n",
              "          google.colab.kernel.accessAllowed ? 'block' : 'none';\n",
              "\n",
              "        async function convertToInteractive(key) {\n",
              "          const element = document.querySelector('#df-258daa40-e48c-4c4b-a7ca-ae8f265bb1ee');\n",
              "          const dataTable =\n",
              "            await google.colab.kernel.invokeFunction('convertToInteractive',\n",
              "                                                     [key], {});\n",
              "          if (!dataTable) return;\n",
              "\n",
              "          const docLinkHtml = 'Like what you see? Visit the ' +\n",
              "            '<a target=\"_blank\" href=https://colab.research.google.com/notebooks/data_table.ipynb>data table notebook</a>'\n",
              "            + ' to learn more about interactive tables.';\n",
              "          element.innerHTML = '';\n",
              "          dataTable['output_type'] = 'display_data';\n",
              "          await google.colab.output.renderOutput(dataTable, element);\n",
              "          const docLink = document.createElement('div');\n",
              "          docLink.innerHTML = docLinkHtml;\n",
              "          element.appendChild(docLink);\n",
              "        }\n",
              "      </script>\n",
              "    </div>\n",
              "  </div>\n",
              "  "
            ]
          },
          "metadata": {},
          "execution_count": 55
        }
      ]
    },
    {
      "cell_type": "markdown",
      "source": [
        "# ¿Qué preguntamos?\n",
        "\n",
        "* https://www.kaggle.com/datasets/die9origephit/fifa-world-cup-2022-complete-dataset?resource=download\n",
        "\n",
        "* https://en.wikipedia.org/wiki/Morocco_at_the_FIFA_World_Cup\n",
        "\n",
        "* \n",
        "\n",
        "* Diferencia de goles del partido\n",
        "   * histograma \n",
        "\n",
        "* Diferencias de posesion\n",
        "\n",
        "* Correlacion posesion vs.  goles(Hacer grafica de posecion vs goles)\n",
        "\n",
        "* Correlacion entre columnas y quien gano\n",
        "\n",
        "* Partido patido parejo o desparejo. No es lo mismo empate en la final que una goleada entre un equipo que no clasifica nunca y otro que gano muchas copas( Francia - Marruecos)\n",
        "\n",
        "\n",
        "* Relacion entre valuacion de equipo y resultados de mudiales. Ejemplo uk N1 posicion 5. TODO: coseguir caluacion de cada equipo Qantar 2022 "
      ],
      "metadata": {
        "id": "e9aX-uIrJ_Dl"
      }
    },
    {
      "cell_type": "markdown",
      "source": [
        "# Correlacion posesion vs. goles, grafica de posecion vs goles."
      ],
      "metadata": {
        "id": "QV8H7gh0O0eZ"
      }
    },
    {
      "cell_type": "code",
      "source": [
        "matches.columns"
      ],
      "metadata": {
        "colab": {
          "base_uri": "https://localhost:8080/"
        },
        "id": "9bapCSQYPUiH",
        "outputId": "cbe6fbe6-e403-44bd-9b6a-8cd7b8f3dd18"
      },
      "execution_count": 56,
      "outputs": [
        {
          "output_type": "execute_result",
          "data": {
            "text/plain": [
              "Index(['team1', 'team2', 'possession team1', 'possession team2',\n",
              "       'possession in contest', 'number of goals team1',\n",
              "       'number of goals team2', 'date', 'hour', 'category',\n",
              "       'total attempts team1', 'total attempts team2', 'conceded team1',\n",
              "       'conceded team2', 'goal inside the penalty area team1',\n",
              "       'goal inside the penalty area team2',\n",
              "       'goal outside the penalty area team1',\n",
              "       'goal outside the penalty area team2', 'assists team1', 'assists team2',\n",
              "       'on target attempts team1', 'on target attempts team2',\n",
              "       'off target attempts team1', 'off target attempts team2',\n",
              "       'attempts inside the penalty area team1',\n",
              "       'attempts inside the penalty area  team2',\n",
              "       'attempts outside the penalty area  team1',\n",
              "       'attempts outside the penalty area  team2', 'left channel team1',\n",
              "       'left channel team2', 'left inside channel team1',\n",
              "       'left inside channel team2', 'central channel team1',\n",
              "       'central channel team2', 'right inside channel team1',\n",
              "       'right inside channel team2', 'right channel team1',\n",
              "       'right channel team2', 'total offers to receive team1',\n",
              "       'total offers to receive team2', 'inbehind offers to receive team1',\n",
              "       'inbehind offers to receive team2', 'inbetween offers to receive team1',\n",
              "       'inbetween offers to receive team2', 'infront offers to receive team1',\n",
              "       'infront offers to receive team2',\n",
              "       'receptions between midfield and defensive lines team1',\n",
              "       'receptions between midfield and defensive lines team2',\n",
              "       'attempted line breaks team1', 'attempted line breaks team2',\n",
              "       'completed line breaksteam1', 'completed line breaks team2',\n",
              "       'attempted defensive line breaks team1',\n",
              "       'attempted defensive line breaks team2',\n",
              "       'completed defensive line breaksteam1',\n",
              "       'completed defensive line breaks team2', 'yellow cards team1',\n",
              "       'yellow cards team2', 'red cards team1', 'red cards team2',\n",
              "       'fouls against team1', 'fouls against team2', 'offsides team1',\n",
              "       'offsides team2', 'passes team1', 'passes team2',\n",
              "       'passes completed team1', 'passes completed team2', 'crosses team1',\n",
              "       'crosses team2', 'crosses completed team1', 'crosses completed team2',\n",
              "       'switches of play completed team1', 'switches of play completed team2',\n",
              "       'corners team1', 'corners team2', 'free kicks team1',\n",
              "       'free kicks team2', 'penalties scored team1', 'penalties scored team2',\n",
              "       'goal preventions team1', 'goal preventions team2', 'own goals team1',\n",
              "       'own goals team2', 'forced turnovers team1', 'forced turnovers team2',\n",
              "       'defensive pressures applied team1',\n",
              "       'defensive pressures applied team2', 'dif_goles', 'dif_posesion'],\n",
              "      dtype='object')"
            ]
          },
          "metadata": {},
          "execution_count": 56
        }
      ]
    },
    {
      "cell_type": "code",
      "source": [
        "\n",
        "fig= px.scatter(matches,x='dif_posesion', y='dif_goles',hover_data=['team1','team2','number of goals team1','number of goals team2'] )\n",
        "fig.show()\n"
      ],
      "metadata": {
        "colab": {
          "base_uri": "https://localhost:8080/",
          "height": 542
        },
        "id": "v7GHKfX2Ok-U",
        "outputId": "a6f08978-3d7d-4515-ca59-9c0c2cbd01e3"
      },
      "execution_count": 57,
      "outputs": [
        {
          "output_type": "display_data",
          "data": {
            "application/vnd.plotly.v1+json": {
              "data": [
                {
                  "customdata": [
                    [
                      "QATAR",
                      "ECUADOR",
                      0,
                      2
                    ],
                    [
                      "ENGLAND",
                      "IRAN",
                      6,
                      2
                    ],
                    [
                      "SENEGAL",
                      "NETHERLANDS",
                      0,
                      2
                    ],
                    [
                      "UNITED STATES",
                      "WALES",
                      1,
                      1
                    ],
                    [
                      "ARGENTINA",
                      "SAUDI ARABIA",
                      1,
                      2
                    ],
                    [
                      "DENMARK",
                      "TUNISIA",
                      0,
                      0
                    ],
                    [
                      "MEXICO",
                      "POLAND",
                      0,
                      0
                    ],
                    [
                      "FRANCE",
                      "AUSTRALIA",
                      4,
                      1
                    ],
                    [
                      "MOROCCO",
                      "CROATIA",
                      0,
                      0
                    ],
                    [
                      "GERMANY",
                      "JAPAN",
                      1,
                      2
                    ],
                    [
                      "SPAIN",
                      "COSTA RICA",
                      7,
                      0
                    ],
                    [
                      "BELGIUM",
                      "CANADA",
                      1,
                      0
                    ],
                    [
                      "SWITZERLAND",
                      "CAMEROON",
                      1,
                      0
                    ],
                    [
                      "URUGUAY",
                      "KOREA REPUBLIC",
                      0,
                      0
                    ],
                    [
                      "PORTUGAL",
                      "GHANA",
                      3,
                      2
                    ],
                    [
                      "BRAZIL",
                      "SERBIA",
                      2,
                      0
                    ],
                    [
                      "WALES",
                      "IRAN",
                      0,
                      2
                    ],
                    [
                      "QATAR",
                      "SENEGAL",
                      1,
                      3
                    ],
                    [
                      "NETHERLANDS",
                      "ECUADOR",
                      1,
                      1
                    ],
                    [
                      "ENGLAND",
                      "UNITED STATES",
                      0,
                      0
                    ],
                    [
                      "TUNISIA",
                      "AUSTRALIA",
                      0,
                      1
                    ],
                    [
                      "POLAND",
                      "SAUDI ARABIA",
                      2,
                      0
                    ],
                    [
                      "FRANCE",
                      "DENMARK",
                      2,
                      1
                    ],
                    [
                      "ARGENTINA",
                      "MEXICO",
                      2,
                      0
                    ],
                    [
                      "JAPAN",
                      "COSTA RICA",
                      0,
                      1
                    ],
                    [
                      "BELGIUM",
                      "MOROCCO",
                      0,
                      2
                    ],
                    [
                      "CROATIA",
                      "CANADA",
                      4,
                      1
                    ],
                    [
                      "SPAIN",
                      "GERMANY",
                      1,
                      1
                    ],
                    [
                      "CAMEROON",
                      "SERBIA",
                      3,
                      3
                    ],
                    [
                      "KOREA REPUBLIC",
                      "GHANA",
                      2,
                      3
                    ],
                    [
                      "BRAZIL",
                      "SWITZERLAND",
                      1,
                      0
                    ],
                    [
                      "PORTUGAL",
                      "URUGUAY",
                      2,
                      0
                    ],
                    [
                      "NETHERLANDS",
                      "QATAR",
                      2,
                      0
                    ],
                    [
                      "ECUADOR",
                      "SENEGAL",
                      1,
                      2
                    ],
                    [
                      "WALES",
                      "ENGLAND",
                      0,
                      3
                    ],
                    [
                      "IRAN",
                      "UNITED STATES",
                      0,
                      1
                    ],
                    [
                      "AUSTRALIA",
                      "DENMARK",
                      1,
                      0
                    ],
                    [
                      "TUNISIA",
                      "FRANCE",
                      1,
                      0
                    ],
                    [
                      "POLAND",
                      "ARGENTINA",
                      0,
                      2
                    ],
                    [
                      "SAUDI ARABIA",
                      "MEXICO",
                      1,
                      2
                    ],
                    [
                      "CROATIA",
                      "BELGIUM",
                      0,
                      0
                    ],
                    [
                      "CANADA",
                      "MOROCCO",
                      1,
                      2
                    ],
                    [
                      "JAPAN",
                      "SPAIN",
                      2,
                      1
                    ],
                    [
                      "COSTA RICA",
                      "GERMANY",
                      2,
                      4
                    ],
                    [
                      "GHANA",
                      "URUGUAY",
                      0,
                      2
                    ],
                    [
                      "KOREA REPUBLIC",
                      "PORTUGAL",
                      2,
                      1
                    ],
                    [
                      "SERBIA",
                      "SWITZERLAND",
                      2,
                      3
                    ],
                    [
                      "CAMEROON",
                      "BRAZIL",
                      1,
                      0
                    ],
                    [
                      "NETHERLANDS",
                      "UNITED STATES",
                      3,
                      1
                    ],
                    [
                      "ARGENTINA",
                      "AUSTRALIA",
                      2,
                      1
                    ],
                    [
                      "FRANCE",
                      "POLAND",
                      3,
                      1
                    ],
                    [
                      "ENGLAND",
                      "SENEGAL",
                      3,
                      0
                    ],
                    [
                      "JAPAN",
                      "CROATIA",
                      1,
                      1
                    ],
                    [
                      "BRAZIL",
                      "KOREA REPUBLIC",
                      4,
                      1
                    ],
                    [
                      "MOROCCO",
                      "SPAIN",
                      0,
                      0
                    ],
                    [
                      "PORTUGAL",
                      "SWITZERLAND",
                      6,
                      1
                    ],
                    [
                      "CROATIA",
                      "BRAZIL",
                      1,
                      1
                    ],
                    [
                      "NETHERLANDS",
                      "ARGENTINA",
                      2,
                      2
                    ],
                    [
                      "MOROCCO",
                      "PORTUGAL",
                      1,
                      0
                    ],
                    [
                      "ENGLAND",
                      "FRANCE",
                      1,
                      2
                    ],
                    [
                      "ARGENTINA",
                      "CROATIA",
                      3,
                      0
                    ],
                    [
                      "FRANCE",
                      "MOROCCO",
                      2,
                      0
                    ],
                    [
                      "CROATIA",
                      "MOROCCO",
                      2,
                      1
                    ],
                    [
                      "ARGENTINA",
                      "FRANCE",
                      3,
                      3
                    ]
                  ],
                  "hovertemplate": "dif_posesion=%{x}<br>dif_goles=%{y}<br>team1=%{customdata[0]}<br>team2=%{customdata[1]}<br>number of goals team1=%{customdata[2]}<br>number of goals team2=%{customdata[3]}<extra></extra>",
                  "legendgroup": "",
                  "marker": {
                    "color": "#636efa",
                    "symbol": "circle"
                  },
                  "mode": "markers",
                  "name": "",
                  "orientation": "v",
                  "showlegend": false,
                  "x": [
                    -8,
                    53,
                    -1,
                    12,
                    40,
                    22,
                    23,
                    21,
                    -25,
                    43,
                    57,
                    3,
                    -3,
                    11,
                    20,
                    19,
                    18,
                    -6,
                    9,
                    11,
                    19,
                    -27,
                    0,
                    14,
                    9,
                    24,
                    -5,
                    23,
                    -11,
                    21,
                    11,
                    18,
                    16,
                    19,
                    -25,
                    -3,
                    -36,
                    -26,
                    -43,
                    -26,
                    -4,
                    16,
                    -64,
                    -33,
                    7,
                    -21,
                    4,
                    -25,
                    -21,
                    18,
                    6,
                    19,
                    -16,
                    3,
                    -46,
                    -5,
                    0,
                    1,
                    -43,
                    18,
                    -20,
                    -21,
                    0,
                    6
                  ],
                  "xaxis": "x",
                  "y": [
                    -2,
                    4,
                    -2,
                    0,
                    -1,
                    0,
                    0,
                    3,
                    0,
                    -1,
                    7,
                    1,
                    1,
                    0,
                    1,
                    2,
                    -2,
                    -2,
                    0,
                    0,
                    -1,
                    2,
                    1,
                    2,
                    -1,
                    -2,
                    3,
                    0,
                    0,
                    -1,
                    1,
                    2,
                    2,
                    -1,
                    -3,
                    -1,
                    1,
                    1,
                    -2,
                    -1,
                    0,
                    -1,
                    1,
                    -2,
                    -2,
                    1,
                    -1,
                    1,
                    2,
                    1,
                    2,
                    3,
                    0,
                    3,
                    0,
                    5,
                    0,
                    0,
                    1,
                    -1,
                    3,
                    2,
                    1,
                    0
                  ],
                  "yaxis": "y",
                  "type": "scatter"
                }
              ],
              "layout": {
                "template": {
                  "data": {
                    "histogram2dcontour": [
                      {
                        "type": "histogram2dcontour",
                        "colorbar": {
                          "outlinewidth": 0,
                          "ticks": ""
                        },
                        "colorscale": [
                          [
                            0,
                            "#0d0887"
                          ],
                          [
                            0.1111111111111111,
                            "#46039f"
                          ],
                          [
                            0.2222222222222222,
                            "#7201a8"
                          ],
                          [
                            0.3333333333333333,
                            "#9c179e"
                          ],
                          [
                            0.4444444444444444,
                            "#bd3786"
                          ],
                          [
                            0.5555555555555556,
                            "#d8576b"
                          ],
                          [
                            0.6666666666666666,
                            "#ed7953"
                          ],
                          [
                            0.7777777777777778,
                            "#fb9f3a"
                          ],
                          [
                            0.8888888888888888,
                            "#fdca26"
                          ],
                          [
                            1,
                            "#f0f921"
                          ]
                        ]
                      }
                    ],
                    "choropleth": [
                      {
                        "type": "choropleth",
                        "colorbar": {
                          "outlinewidth": 0,
                          "ticks": ""
                        }
                      }
                    ],
                    "histogram2d": [
                      {
                        "type": "histogram2d",
                        "colorbar": {
                          "outlinewidth": 0,
                          "ticks": ""
                        },
                        "colorscale": [
                          [
                            0,
                            "#0d0887"
                          ],
                          [
                            0.1111111111111111,
                            "#46039f"
                          ],
                          [
                            0.2222222222222222,
                            "#7201a8"
                          ],
                          [
                            0.3333333333333333,
                            "#9c179e"
                          ],
                          [
                            0.4444444444444444,
                            "#bd3786"
                          ],
                          [
                            0.5555555555555556,
                            "#d8576b"
                          ],
                          [
                            0.6666666666666666,
                            "#ed7953"
                          ],
                          [
                            0.7777777777777778,
                            "#fb9f3a"
                          ],
                          [
                            0.8888888888888888,
                            "#fdca26"
                          ],
                          [
                            1,
                            "#f0f921"
                          ]
                        ]
                      }
                    ],
                    "heatmap": [
                      {
                        "type": "heatmap",
                        "colorbar": {
                          "outlinewidth": 0,
                          "ticks": ""
                        },
                        "colorscale": [
                          [
                            0,
                            "#0d0887"
                          ],
                          [
                            0.1111111111111111,
                            "#46039f"
                          ],
                          [
                            0.2222222222222222,
                            "#7201a8"
                          ],
                          [
                            0.3333333333333333,
                            "#9c179e"
                          ],
                          [
                            0.4444444444444444,
                            "#bd3786"
                          ],
                          [
                            0.5555555555555556,
                            "#d8576b"
                          ],
                          [
                            0.6666666666666666,
                            "#ed7953"
                          ],
                          [
                            0.7777777777777778,
                            "#fb9f3a"
                          ],
                          [
                            0.8888888888888888,
                            "#fdca26"
                          ],
                          [
                            1,
                            "#f0f921"
                          ]
                        ]
                      }
                    ],
                    "heatmapgl": [
                      {
                        "type": "heatmapgl",
                        "colorbar": {
                          "outlinewidth": 0,
                          "ticks": ""
                        },
                        "colorscale": [
                          [
                            0,
                            "#0d0887"
                          ],
                          [
                            0.1111111111111111,
                            "#46039f"
                          ],
                          [
                            0.2222222222222222,
                            "#7201a8"
                          ],
                          [
                            0.3333333333333333,
                            "#9c179e"
                          ],
                          [
                            0.4444444444444444,
                            "#bd3786"
                          ],
                          [
                            0.5555555555555556,
                            "#d8576b"
                          ],
                          [
                            0.6666666666666666,
                            "#ed7953"
                          ],
                          [
                            0.7777777777777778,
                            "#fb9f3a"
                          ],
                          [
                            0.8888888888888888,
                            "#fdca26"
                          ],
                          [
                            1,
                            "#f0f921"
                          ]
                        ]
                      }
                    ],
                    "contourcarpet": [
                      {
                        "type": "contourcarpet",
                        "colorbar": {
                          "outlinewidth": 0,
                          "ticks": ""
                        }
                      }
                    ],
                    "contour": [
                      {
                        "type": "contour",
                        "colorbar": {
                          "outlinewidth": 0,
                          "ticks": ""
                        },
                        "colorscale": [
                          [
                            0,
                            "#0d0887"
                          ],
                          [
                            0.1111111111111111,
                            "#46039f"
                          ],
                          [
                            0.2222222222222222,
                            "#7201a8"
                          ],
                          [
                            0.3333333333333333,
                            "#9c179e"
                          ],
                          [
                            0.4444444444444444,
                            "#bd3786"
                          ],
                          [
                            0.5555555555555556,
                            "#d8576b"
                          ],
                          [
                            0.6666666666666666,
                            "#ed7953"
                          ],
                          [
                            0.7777777777777778,
                            "#fb9f3a"
                          ],
                          [
                            0.8888888888888888,
                            "#fdca26"
                          ],
                          [
                            1,
                            "#f0f921"
                          ]
                        ]
                      }
                    ],
                    "surface": [
                      {
                        "type": "surface",
                        "colorbar": {
                          "outlinewidth": 0,
                          "ticks": ""
                        },
                        "colorscale": [
                          [
                            0,
                            "#0d0887"
                          ],
                          [
                            0.1111111111111111,
                            "#46039f"
                          ],
                          [
                            0.2222222222222222,
                            "#7201a8"
                          ],
                          [
                            0.3333333333333333,
                            "#9c179e"
                          ],
                          [
                            0.4444444444444444,
                            "#bd3786"
                          ],
                          [
                            0.5555555555555556,
                            "#d8576b"
                          ],
                          [
                            0.6666666666666666,
                            "#ed7953"
                          ],
                          [
                            0.7777777777777778,
                            "#fb9f3a"
                          ],
                          [
                            0.8888888888888888,
                            "#fdca26"
                          ],
                          [
                            1,
                            "#f0f921"
                          ]
                        ]
                      }
                    ],
                    "mesh3d": [
                      {
                        "type": "mesh3d",
                        "colorbar": {
                          "outlinewidth": 0,
                          "ticks": ""
                        }
                      }
                    ],
                    "scatter": [
                      {
                        "marker": {
                          "line": {
                            "color": "#283442"
                          }
                        },
                        "type": "scatter"
                      }
                    ],
                    "parcoords": [
                      {
                        "type": "parcoords",
                        "line": {
                          "colorbar": {
                            "outlinewidth": 0,
                            "ticks": ""
                          }
                        }
                      }
                    ],
                    "scatterpolargl": [
                      {
                        "type": "scatterpolargl",
                        "marker": {
                          "colorbar": {
                            "outlinewidth": 0,
                            "ticks": ""
                          }
                        }
                      }
                    ],
                    "bar": [
                      {
                        "error_x": {
                          "color": "#f2f5fa"
                        },
                        "error_y": {
                          "color": "#f2f5fa"
                        },
                        "marker": {
                          "line": {
                            "color": "rgb(17,17,17)",
                            "width": 0.5
                          },
                          "pattern": {
                            "fillmode": "overlay",
                            "size": 10,
                            "solidity": 0.2
                          }
                        },
                        "type": "bar"
                      }
                    ],
                    "scattergeo": [
                      {
                        "type": "scattergeo",
                        "marker": {
                          "colorbar": {
                            "outlinewidth": 0,
                            "ticks": ""
                          }
                        }
                      }
                    ],
                    "scatterpolar": [
                      {
                        "type": "scatterpolar",
                        "marker": {
                          "colorbar": {
                            "outlinewidth": 0,
                            "ticks": ""
                          }
                        }
                      }
                    ],
                    "histogram": [
                      {
                        "marker": {
                          "pattern": {
                            "fillmode": "overlay",
                            "size": 10,
                            "solidity": 0.2
                          }
                        },
                        "type": "histogram"
                      }
                    ],
                    "scattergl": [
                      {
                        "marker": {
                          "line": {
                            "color": "#283442"
                          }
                        },
                        "type": "scattergl"
                      }
                    ],
                    "scatter3d": [
                      {
                        "type": "scatter3d",
                        "line": {
                          "colorbar": {
                            "outlinewidth": 0,
                            "ticks": ""
                          }
                        },
                        "marker": {
                          "colorbar": {
                            "outlinewidth": 0,
                            "ticks": ""
                          }
                        }
                      }
                    ],
                    "scattermapbox": [
                      {
                        "type": "scattermapbox",
                        "marker": {
                          "colorbar": {
                            "outlinewidth": 0,
                            "ticks": ""
                          }
                        }
                      }
                    ],
                    "scatterternary": [
                      {
                        "type": "scatterternary",
                        "marker": {
                          "colorbar": {
                            "outlinewidth": 0,
                            "ticks": ""
                          }
                        }
                      }
                    ],
                    "scattercarpet": [
                      {
                        "type": "scattercarpet",
                        "marker": {
                          "colorbar": {
                            "outlinewidth": 0,
                            "ticks": ""
                          }
                        }
                      }
                    ],
                    "carpet": [
                      {
                        "aaxis": {
                          "endlinecolor": "#A2B1C6",
                          "gridcolor": "#506784",
                          "linecolor": "#506784",
                          "minorgridcolor": "#506784",
                          "startlinecolor": "#A2B1C6"
                        },
                        "baxis": {
                          "endlinecolor": "#A2B1C6",
                          "gridcolor": "#506784",
                          "linecolor": "#506784",
                          "minorgridcolor": "#506784",
                          "startlinecolor": "#A2B1C6"
                        },
                        "type": "carpet"
                      }
                    ],
                    "table": [
                      {
                        "cells": {
                          "fill": {
                            "color": "#506784"
                          },
                          "line": {
                            "color": "rgb(17,17,17)"
                          }
                        },
                        "header": {
                          "fill": {
                            "color": "#2a3f5f"
                          },
                          "line": {
                            "color": "rgb(17,17,17)"
                          }
                        },
                        "type": "table"
                      }
                    ],
                    "barpolar": [
                      {
                        "marker": {
                          "line": {
                            "color": "rgb(17,17,17)",
                            "width": 0.5
                          },
                          "pattern": {
                            "fillmode": "overlay",
                            "size": 10,
                            "solidity": 0.2
                          }
                        },
                        "type": "barpolar"
                      }
                    ],
                    "pie": [
                      {
                        "automargin": true,
                        "type": "pie"
                      }
                    ]
                  },
                  "layout": {
                    "autotypenumbers": "strict",
                    "colorway": [
                      "#636efa",
                      "#EF553B",
                      "#00cc96",
                      "#ab63fa",
                      "#FFA15A",
                      "#19d3f3",
                      "#FF6692",
                      "#B6E880",
                      "#FF97FF",
                      "#FECB52"
                    ],
                    "font": {
                      "color": "#f2f5fa"
                    },
                    "hovermode": "closest",
                    "hoverlabel": {
                      "align": "left"
                    },
                    "paper_bgcolor": "rgb(17,17,17)",
                    "plot_bgcolor": "rgb(17,17,17)",
                    "polar": {
                      "bgcolor": "rgb(17,17,17)",
                      "angularaxis": {
                        "gridcolor": "#506784",
                        "linecolor": "#506784",
                        "ticks": ""
                      },
                      "radialaxis": {
                        "gridcolor": "#506784",
                        "linecolor": "#506784",
                        "ticks": ""
                      }
                    },
                    "ternary": {
                      "bgcolor": "rgb(17,17,17)",
                      "aaxis": {
                        "gridcolor": "#506784",
                        "linecolor": "#506784",
                        "ticks": ""
                      },
                      "baxis": {
                        "gridcolor": "#506784",
                        "linecolor": "#506784",
                        "ticks": ""
                      },
                      "caxis": {
                        "gridcolor": "#506784",
                        "linecolor": "#506784",
                        "ticks": ""
                      }
                    },
                    "coloraxis": {
                      "colorbar": {
                        "outlinewidth": 0,
                        "ticks": ""
                      }
                    },
                    "colorscale": {
                      "sequential": [
                        [
                          0,
                          "#0d0887"
                        ],
                        [
                          0.1111111111111111,
                          "#46039f"
                        ],
                        [
                          0.2222222222222222,
                          "#7201a8"
                        ],
                        [
                          0.3333333333333333,
                          "#9c179e"
                        ],
                        [
                          0.4444444444444444,
                          "#bd3786"
                        ],
                        [
                          0.5555555555555556,
                          "#d8576b"
                        ],
                        [
                          0.6666666666666666,
                          "#ed7953"
                        ],
                        [
                          0.7777777777777778,
                          "#fb9f3a"
                        ],
                        [
                          0.8888888888888888,
                          "#fdca26"
                        ],
                        [
                          1,
                          "#f0f921"
                        ]
                      ],
                      "sequentialminus": [
                        [
                          0,
                          "#0d0887"
                        ],
                        [
                          0.1111111111111111,
                          "#46039f"
                        ],
                        [
                          0.2222222222222222,
                          "#7201a8"
                        ],
                        [
                          0.3333333333333333,
                          "#9c179e"
                        ],
                        [
                          0.4444444444444444,
                          "#bd3786"
                        ],
                        [
                          0.5555555555555556,
                          "#d8576b"
                        ],
                        [
                          0.6666666666666666,
                          "#ed7953"
                        ],
                        [
                          0.7777777777777778,
                          "#fb9f3a"
                        ],
                        [
                          0.8888888888888888,
                          "#fdca26"
                        ],
                        [
                          1,
                          "#f0f921"
                        ]
                      ],
                      "diverging": [
                        [
                          0,
                          "#8e0152"
                        ],
                        [
                          0.1,
                          "#c51b7d"
                        ],
                        [
                          0.2,
                          "#de77ae"
                        ],
                        [
                          0.3,
                          "#f1b6da"
                        ],
                        [
                          0.4,
                          "#fde0ef"
                        ],
                        [
                          0.5,
                          "#f7f7f7"
                        ],
                        [
                          0.6,
                          "#e6f5d0"
                        ],
                        [
                          0.7,
                          "#b8e186"
                        ],
                        [
                          0.8,
                          "#7fbc41"
                        ],
                        [
                          0.9,
                          "#4d9221"
                        ],
                        [
                          1,
                          "#276419"
                        ]
                      ]
                    },
                    "xaxis": {
                      "gridcolor": "#283442",
                      "linecolor": "#506784",
                      "ticks": "",
                      "title": {
                        "standoff": 15
                      },
                      "zerolinecolor": "#283442",
                      "automargin": true,
                      "zerolinewidth": 2
                    },
                    "yaxis": {
                      "gridcolor": "#283442",
                      "linecolor": "#506784",
                      "ticks": "",
                      "title": {
                        "standoff": 15
                      },
                      "zerolinecolor": "#283442",
                      "automargin": true,
                      "zerolinewidth": 2
                    },
                    "scene": {
                      "xaxis": {
                        "backgroundcolor": "rgb(17,17,17)",
                        "gridcolor": "#506784",
                        "linecolor": "#506784",
                        "showbackground": true,
                        "ticks": "",
                        "zerolinecolor": "#C8D4E3",
                        "gridwidth": 2
                      },
                      "yaxis": {
                        "backgroundcolor": "rgb(17,17,17)",
                        "gridcolor": "#506784",
                        "linecolor": "#506784",
                        "showbackground": true,
                        "ticks": "",
                        "zerolinecolor": "#C8D4E3",
                        "gridwidth": 2
                      },
                      "zaxis": {
                        "backgroundcolor": "rgb(17,17,17)",
                        "gridcolor": "#506784",
                        "linecolor": "#506784",
                        "showbackground": true,
                        "ticks": "",
                        "zerolinecolor": "#C8D4E3",
                        "gridwidth": 2
                      }
                    },
                    "shapedefaults": {
                      "line": {
                        "color": "#f2f5fa"
                      }
                    },
                    "annotationdefaults": {
                      "arrowcolor": "#f2f5fa",
                      "arrowhead": 0,
                      "arrowwidth": 1
                    },
                    "geo": {
                      "bgcolor": "rgb(17,17,17)",
                      "landcolor": "rgb(17,17,17)",
                      "subunitcolor": "#506784",
                      "showland": true,
                      "showlakes": true,
                      "lakecolor": "rgb(17,17,17)"
                    },
                    "title": {
                      "x": 0.05
                    },
                    "updatemenudefaults": {
                      "bgcolor": "#506784",
                      "borderwidth": 0
                    },
                    "sliderdefaults": {
                      "bgcolor": "#C8D4E3",
                      "borderwidth": 1,
                      "bordercolor": "rgb(17,17,17)",
                      "tickwidth": 0
                    },
                    "mapbox": {
                      "style": "dark"
                    }
                  }
                },
                "xaxis": {
                  "anchor": "y",
                  "domain": [
                    0,
                    1
                  ],
                  "title": {
                    "text": "dif_posesion"
                  }
                },
                "yaxis": {
                  "anchor": "x",
                  "domain": [
                    0,
                    1
                  ],
                  "title": {
                    "text": "dif_goles"
                  }
                },
                "legend": {
                  "tracegroupgap": 0
                },
                "margin": {
                  "t": 60
                }
              },
              "config": {
                "plotlyServerURL": "https://plot.ly"
              }
            },
            "text/html": [
              "<div>                            <div id=\"1b905c0f-4e24-4894-a124-0c3283c3af8d\" class=\"plotly-graph-div\" style=\"height:525px; width:100%;\"></div>            <script type=\"text/javascript\">                require([\"plotly\"], function(Plotly) {                    window.PLOTLYENV=window.PLOTLYENV || {};                                    if (document.getElementById(\"1b905c0f-4e24-4894-a124-0c3283c3af8d\")) {                    Plotly.newPlot(                        \"1b905c0f-4e24-4894-a124-0c3283c3af8d\",                        [{\"customdata\":[[\"QATAR\",\"ECUADOR\",0,2],[\"ENGLAND\",\"IRAN\",6,2],[\"SENEGAL\",\"NETHERLANDS\",0,2],[\"UNITED STATES\",\"WALES\",1,1],[\"ARGENTINA\",\"SAUDI ARABIA\",1,2],[\"DENMARK\",\"TUNISIA\",0,0],[\"MEXICO\",\"POLAND\",0,0],[\"FRANCE\",\"AUSTRALIA\",4,1],[\"MOROCCO\",\"CROATIA\",0,0],[\"GERMANY\",\"JAPAN\",1,2],[\"SPAIN\",\"COSTA RICA\",7,0],[\"BELGIUM\",\"CANADA\",1,0],[\"SWITZERLAND\",\"CAMEROON\",1,0],[\"URUGUAY\",\"KOREA REPUBLIC\",0,0],[\"PORTUGAL\",\"GHANA\",3,2],[\"BRAZIL\",\"SERBIA\",2,0],[\"WALES\",\"IRAN\",0,2],[\"QATAR\",\"SENEGAL\",1,3],[\"NETHERLANDS\",\"ECUADOR\",1,1],[\"ENGLAND\",\"UNITED STATES\",0,0],[\"TUNISIA\",\"AUSTRALIA\",0,1],[\"POLAND\",\"SAUDI ARABIA\",2,0],[\"FRANCE\",\"DENMARK\",2,1],[\"ARGENTINA\",\"MEXICO\",2,0],[\"JAPAN\",\"COSTA RICA\",0,1],[\"BELGIUM\",\"MOROCCO\",0,2],[\"CROATIA\",\"CANADA\",4,1],[\"SPAIN\",\"GERMANY\",1,1],[\"CAMEROON\",\"SERBIA\",3,3],[\"KOREA REPUBLIC\",\"GHANA\",2,3],[\"BRAZIL\",\"SWITZERLAND\",1,0],[\"PORTUGAL\",\"URUGUAY\",2,0],[\"NETHERLANDS\",\"QATAR\",2,0],[\"ECUADOR\",\"SENEGAL\",1,2],[\"WALES\",\"ENGLAND\",0,3],[\"IRAN\",\"UNITED STATES\",0,1],[\"AUSTRALIA\",\"DENMARK\",1,0],[\"TUNISIA\",\"FRANCE\",1,0],[\"POLAND\",\"ARGENTINA\",0,2],[\"SAUDI ARABIA\",\"MEXICO\",1,2],[\"CROATIA\",\"BELGIUM\",0,0],[\"CANADA\",\"MOROCCO\",1,2],[\"JAPAN\",\"SPAIN\",2,1],[\"COSTA RICA\",\"GERMANY\",2,4],[\"GHANA\",\"URUGUAY\",0,2],[\"KOREA REPUBLIC\",\"PORTUGAL\",2,1],[\"SERBIA\",\"SWITZERLAND\",2,3],[\"CAMEROON\",\"BRAZIL\",1,0],[\"NETHERLANDS\",\"UNITED STATES\",3,1],[\"ARGENTINA\",\"AUSTRALIA\",2,1],[\"FRANCE\",\"POLAND\",3,1],[\"ENGLAND\",\"SENEGAL\",3,0],[\"JAPAN\",\"CROATIA\",1,1],[\"BRAZIL\",\"KOREA REPUBLIC\",4,1],[\"MOROCCO\",\"SPAIN\",0,0],[\"PORTUGAL\",\"SWITZERLAND\",6,1],[\"CROATIA\",\"BRAZIL\",1,1],[\"NETHERLANDS\",\"ARGENTINA\",2,2],[\"MOROCCO\",\"PORTUGAL\",1,0],[\"ENGLAND\",\"FRANCE\",1,2],[\"ARGENTINA\",\"CROATIA\",3,0],[\"FRANCE\",\"MOROCCO\",2,0],[\"CROATIA\",\"MOROCCO\",2,1],[\"ARGENTINA\",\"FRANCE\",3,3]],\"hovertemplate\":\"dif_posesion=%{x}<br>dif_goles=%{y}<br>team1=%{customdata[0]}<br>team2=%{customdata[1]}<br>number of goals team1=%{customdata[2]}<br>number of goals team2=%{customdata[3]}<extra></extra>\",\"legendgroup\":\"\",\"marker\":{\"color\":\"#636efa\",\"symbol\":\"circle\"},\"mode\":\"markers\",\"name\":\"\",\"orientation\":\"v\",\"showlegend\":false,\"x\":[-8.0,53.0,-1.0,12.0,40.0,22.0,23.0,21.0,-25.0,43.0,57.0,3.0,-3.0,11.0,20.0,19.0,18.0,-6.0,9.0,11.0,19.0,-27.0,0.0,14.0,9.0,24.0,-5.0,23.0,-11.0,21.0,11.0,18.0,16.0,19.0,-25.0,-3.0,-36.0,-26.0,-43.0,-26.0,-4.0,16.0,-64.0,-33.0,7.0,-21.0,4.0,-25.0,-21.0,18.0,6.0,19.0,-16.0,3.0,-46.0,-5.0,0.0,1.0,-43.0,18.0,-20.0,-21.0,0.0,6.0],\"xaxis\":\"x\",\"y\":[-2,4,-2,0,-1,0,0,3,0,-1,7,1,1,0,1,2,-2,-2,0,0,-1,2,1,2,-1,-2,3,0,0,-1,1,2,2,-1,-3,-1,1,1,-2,-1,0,-1,1,-2,-2,1,-1,1,2,1,2,3,0,3,0,5,0,0,1,-1,3,2,1,0],\"yaxis\":\"y\",\"type\":\"scatter\"}],                        {\"template\":{\"data\":{\"histogram2dcontour\":[{\"type\":\"histogram2dcontour\",\"colorbar\":{\"outlinewidth\":0,\"ticks\":\"\"},\"colorscale\":[[0.0,\"#0d0887\"],[0.1111111111111111,\"#46039f\"],[0.2222222222222222,\"#7201a8\"],[0.3333333333333333,\"#9c179e\"],[0.4444444444444444,\"#bd3786\"],[0.5555555555555556,\"#d8576b\"],[0.6666666666666666,\"#ed7953\"],[0.7777777777777778,\"#fb9f3a\"],[0.8888888888888888,\"#fdca26\"],[1.0,\"#f0f921\"]]}],\"choropleth\":[{\"type\":\"choropleth\",\"colorbar\":{\"outlinewidth\":0,\"ticks\":\"\"}}],\"histogram2d\":[{\"type\":\"histogram2d\",\"colorbar\":{\"outlinewidth\":0,\"ticks\":\"\"},\"colorscale\":[[0.0,\"#0d0887\"],[0.1111111111111111,\"#46039f\"],[0.2222222222222222,\"#7201a8\"],[0.3333333333333333,\"#9c179e\"],[0.4444444444444444,\"#bd3786\"],[0.5555555555555556,\"#d8576b\"],[0.6666666666666666,\"#ed7953\"],[0.7777777777777778,\"#fb9f3a\"],[0.8888888888888888,\"#fdca26\"],[1.0,\"#f0f921\"]]}],\"heatmap\":[{\"type\":\"heatmap\",\"colorbar\":{\"outlinewidth\":0,\"ticks\":\"\"},\"colorscale\":[[0.0,\"#0d0887\"],[0.1111111111111111,\"#46039f\"],[0.2222222222222222,\"#7201a8\"],[0.3333333333333333,\"#9c179e\"],[0.4444444444444444,\"#bd3786\"],[0.5555555555555556,\"#d8576b\"],[0.6666666666666666,\"#ed7953\"],[0.7777777777777778,\"#fb9f3a\"],[0.8888888888888888,\"#fdca26\"],[1.0,\"#f0f921\"]]}],\"heatmapgl\":[{\"type\":\"heatmapgl\",\"colorbar\":{\"outlinewidth\":0,\"ticks\":\"\"},\"colorscale\":[[0.0,\"#0d0887\"],[0.1111111111111111,\"#46039f\"],[0.2222222222222222,\"#7201a8\"],[0.3333333333333333,\"#9c179e\"],[0.4444444444444444,\"#bd3786\"],[0.5555555555555556,\"#d8576b\"],[0.6666666666666666,\"#ed7953\"],[0.7777777777777778,\"#fb9f3a\"],[0.8888888888888888,\"#fdca26\"],[1.0,\"#f0f921\"]]}],\"contourcarpet\":[{\"type\":\"contourcarpet\",\"colorbar\":{\"outlinewidth\":0,\"ticks\":\"\"}}],\"contour\":[{\"type\":\"contour\",\"colorbar\":{\"outlinewidth\":0,\"ticks\":\"\"},\"colorscale\":[[0.0,\"#0d0887\"],[0.1111111111111111,\"#46039f\"],[0.2222222222222222,\"#7201a8\"],[0.3333333333333333,\"#9c179e\"],[0.4444444444444444,\"#bd3786\"],[0.5555555555555556,\"#d8576b\"],[0.6666666666666666,\"#ed7953\"],[0.7777777777777778,\"#fb9f3a\"],[0.8888888888888888,\"#fdca26\"],[1.0,\"#f0f921\"]]}],\"surface\":[{\"type\":\"surface\",\"colorbar\":{\"outlinewidth\":0,\"ticks\":\"\"},\"colorscale\":[[0.0,\"#0d0887\"],[0.1111111111111111,\"#46039f\"],[0.2222222222222222,\"#7201a8\"],[0.3333333333333333,\"#9c179e\"],[0.4444444444444444,\"#bd3786\"],[0.5555555555555556,\"#d8576b\"],[0.6666666666666666,\"#ed7953\"],[0.7777777777777778,\"#fb9f3a\"],[0.8888888888888888,\"#fdca26\"],[1.0,\"#f0f921\"]]}],\"mesh3d\":[{\"type\":\"mesh3d\",\"colorbar\":{\"outlinewidth\":0,\"ticks\":\"\"}}],\"scatter\":[{\"marker\":{\"line\":{\"color\":\"#283442\"}},\"type\":\"scatter\"}],\"parcoords\":[{\"type\":\"parcoords\",\"line\":{\"colorbar\":{\"outlinewidth\":0,\"ticks\":\"\"}}}],\"scatterpolargl\":[{\"type\":\"scatterpolargl\",\"marker\":{\"colorbar\":{\"outlinewidth\":0,\"ticks\":\"\"}}}],\"bar\":[{\"error_x\":{\"color\":\"#f2f5fa\"},\"error_y\":{\"color\":\"#f2f5fa\"},\"marker\":{\"line\":{\"color\":\"rgb(17,17,17)\",\"width\":0.5},\"pattern\":{\"fillmode\":\"overlay\",\"size\":10,\"solidity\":0.2}},\"type\":\"bar\"}],\"scattergeo\":[{\"type\":\"scattergeo\",\"marker\":{\"colorbar\":{\"outlinewidth\":0,\"ticks\":\"\"}}}],\"scatterpolar\":[{\"type\":\"scatterpolar\",\"marker\":{\"colorbar\":{\"outlinewidth\":0,\"ticks\":\"\"}}}],\"histogram\":[{\"marker\":{\"pattern\":{\"fillmode\":\"overlay\",\"size\":10,\"solidity\":0.2}},\"type\":\"histogram\"}],\"scattergl\":[{\"marker\":{\"line\":{\"color\":\"#283442\"}},\"type\":\"scattergl\"}],\"scatter3d\":[{\"type\":\"scatter3d\",\"line\":{\"colorbar\":{\"outlinewidth\":0,\"ticks\":\"\"}},\"marker\":{\"colorbar\":{\"outlinewidth\":0,\"ticks\":\"\"}}}],\"scattermapbox\":[{\"type\":\"scattermapbox\",\"marker\":{\"colorbar\":{\"outlinewidth\":0,\"ticks\":\"\"}}}],\"scatterternary\":[{\"type\":\"scatterternary\",\"marker\":{\"colorbar\":{\"outlinewidth\":0,\"ticks\":\"\"}}}],\"scattercarpet\":[{\"type\":\"scattercarpet\",\"marker\":{\"colorbar\":{\"outlinewidth\":0,\"ticks\":\"\"}}}],\"carpet\":[{\"aaxis\":{\"endlinecolor\":\"#A2B1C6\",\"gridcolor\":\"#506784\",\"linecolor\":\"#506784\",\"minorgridcolor\":\"#506784\",\"startlinecolor\":\"#A2B1C6\"},\"baxis\":{\"endlinecolor\":\"#A2B1C6\",\"gridcolor\":\"#506784\",\"linecolor\":\"#506784\",\"minorgridcolor\":\"#506784\",\"startlinecolor\":\"#A2B1C6\"},\"type\":\"carpet\"}],\"table\":[{\"cells\":{\"fill\":{\"color\":\"#506784\"},\"line\":{\"color\":\"rgb(17,17,17)\"}},\"header\":{\"fill\":{\"color\":\"#2a3f5f\"},\"line\":{\"color\":\"rgb(17,17,17)\"}},\"type\":\"table\"}],\"barpolar\":[{\"marker\":{\"line\":{\"color\":\"rgb(17,17,17)\",\"width\":0.5},\"pattern\":{\"fillmode\":\"overlay\",\"size\":10,\"solidity\":0.2}},\"type\":\"barpolar\"}],\"pie\":[{\"automargin\":true,\"type\":\"pie\"}]},\"layout\":{\"autotypenumbers\":\"strict\",\"colorway\":[\"#636efa\",\"#EF553B\",\"#00cc96\",\"#ab63fa\",\"#FFA15A\",\"#19d3f3\",\"#FF6692\",\"#B6E880\",\"#FF97FF\",\"#FECB52\"],\"font\":{\"color\":\"#f2f5fa\"},\"hovermode\":\"closest\",\"hoverlabel\":{\"align\":\"left\"},\"paper_bgcolor\":\"rgb(17,17,17)\",\"plot_bgcolor\":\"rgb(17,17,17)\",\"polar\":{\"bgcolor\":\"rgb(17,17,17)\",\"angularaxis\":{\"gridcolor\":\"#506784\",\"linecolor\":\"#506784\",\"ticks\":\"\"},\"radialaxis\":{\"gridcolor\":\"#506784\",\"linecolor\":\"#506784\",\"ticks\":\"\"}},\"ternary\":{\"bgcolor\":\"rgb(17,17,17)\",\"aaxis\":{\"gridcolor\":\"#506784\",\"linecolor\":\"#506784\",\"ticks\":\"\"},\"baxis\":{\"gridcolor\":\"#506784\",\"linecolor\":\"#506784\",\"ticks\":\"\"},\"caxis\":{\"gridcolor\":\"#506784\",\"linecolor\":\"#506784\",\"ticks\":\"\"}},\"coloraxis\":{\"colorbar\":{\"outlinewidth\":0,\"ticks\":\"\"}},\"colorscale\":{\"sequential\":[[0.0,\"#0d0887\"],[0.1111111111111111,\"#46039f\"],[0.2222222222222222,\"#7201a8\"],[0.3333333333333333,\"#9c179e\"],[0.4444444444444444,\"#bd3786\"],[0.5555555555555556,\"#d8576b\"],[0.6666666666666666,\"#ed7953\"],[0.7777777777777778,\"#fb9f3a\"],[0.8888888888888888,\"#fdca26\"],[1.0,\"#f0f921\"]],\"sequentialminus\":[[0.0,\"#0d0887\"],[0.1111111111111111,\"#46039f\"],[0.2222222222222222,\"#7201a8\"],[0.3333333333333333,\"#9c179e\"],[0.4444444444444444,\"#bd3786\"],[0.5555555555555556,\"#d8576b\"],[0.6666666666666666,\"#ed7953\"],[0.7777777777777778,\"#fb9f3a\"],[0.8888888888888888,\"#fdca26\"],[1.0,\"#f0f921\"]],\"diverging\":[[0,\"#8e0152\"],[0.1,\"#c51b7d\"],[0.2,\"#de77ae\"],[0.3,\"#f1b6da\"],[0.4,\"#fde0ef\"],[0.5,\"#f7f7f7\"],[0.6,\"#e6f5d0\"],[0.7,\"#b8e186\"],[0.8,\"#7fbc41\"],[0.9,\"#4d9221\"],[1,\"#276419\"]]},\"xaxis\":{\"gridcolor\":\"#283442\",\"linecolor\":\"#506784\",\"ticks\":\"\",\"title\":{\"standoff\":15},\"zerolinecolor\":\"#283442\",\"automargin\":true,\"zerolinewidth\":2},\"yaxis\":{\"gridcolor\":\"#283442\",\"linecolor\":\"#506784\",\"ticks\":\"\",\"title\":{\"standoff\":15},\"zerolinecolor\":\"#283442\",\"automargin\":true,\"zerolinewidth\":2},\"scene\":{\"xaxis\":{\"backgroundcolor\":\"rgb(17,17,17)\",\"gridcolor\":\"#506784\",\"linecolor\":\"#506784\",\"showbackground\":true,\"ticks\":\"\",\"zerolinecolor\":\"#C8D4E3\",\"gridwidth\":2},\"yaxis\":{\"backgroundcolor\":\"rgb(17,17,17)\",\"gridcolor\":\"#506784\",\"linecolor\":\"#506784\",\"showbackground\":true,\"ticks\":\"\",\"zerolinecolor\":\"#C8D4E3\",\"gridwidth\":2},\"zaxis\":{\"backgroundcolor\":\"rgb(17,17,17)\",\"gridcolor\":\"#506784\",\"linecolor\":\"#506784\",\"showbackground\":true,\"ticks\":\"\",\"zerolinecolor\":\"#C8D4E3\",\"gridwidth\":2}},\"shapedefaults\":{\"line\":{\"color\":\"#f2f5fa\"}},\"annotationdefaults\":{\"arrowcolor\":\"#f2f5fa\",\"arrowhead\":0,\"arrowwidth\":1},\"geo\":{\"bgcolor\":\"rgb(17,17,17)\",\"landcolor\":\"rgb(17,17,17)\",\"subunitcolor\":\"#506784\",\"showland\":true,\"showlakes\":true,\"lakecolor\":\"rgb(17,17,17)\"},\"title\":{\"x\":0.05},\"updatemenudefaults\":{\"bgcolor\":\"#506784\",\"borderwidth\":0},\"sliderdefaults\":{\"bgcolor\":\"#C8D4E3\",\"borderwidth\":1,\"bordercolor\":\"rgb(17,17,17)\",\"tickwidth\":0},\"mapbox\":{\"style\":\"dark\"}}},\"xaxis\":{\"anchor\":\"y\",\"domain\":[0.0,1.0],\"title\":{\"text\":\"dif_posesion\"}},\"yaxis\":{\"anchor\":\"x\",\"domain\":[0.0,1.0],\"title\":{\"text\":\"dif_goles\"}},\"legend\":{\"tracegroupgap\":0},\"margin\":{\"t\":60}},                        {\"responsive\": true}                    ).then(function(){\n",
              "                            \n",
              "var gd = document.getElementById('1b905c0f-4e24-4894-a124-0c3283c3af8d');\n",
              "var x = new MutationObserver(function (mutations, observer) {{\n",
              "        var display = window.getComputedStyle(gd).display;\n",
              "        if (!display || display === 'none') {{\n",
              "            console.log([gd, 'removed!']);\n",
              "            Plotly.purge(gd);\n",
              "            observer.disconnect();\n",
              "        }}\n",
              "}});\n",
              "\n",
              "// Listen for the removal of the full notebook cells\n",
              "var notebookContainer = gd.closest('#notebook-container');\n",
              "if (notebookContainer) {{\n",
              "    x.observe(notebookContainer, {childList: true});\n",
              "}}\n",
              "\n",
              "// Listen for the clearing of the current output cell\n",
              "var outputEl = gd.closest('.output');\n",
              "if (outputEl) {{\n",
              "    x.observe(outputEl, {childList: true});\n",
              "}}\n",
              "\n",
              "                        })                };                });            </script>        </div>"
            ]
          },
          "metadata": {}
        }
      ]
    }
  ]
}